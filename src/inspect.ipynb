{
 "cells": [
  {
   "cell_type": "code",
   "execution_count": 1,
   "metadata": {},
   "outputs": [],
   "source": [
    "import numpy as np\n",
    "\n",
    "data_path = 'part-000-00000.npy'\n",
    "dtype = np.int32\n",
    "token_ids = np.memmap(data_path, mode=\"r\", dtype=dtype)\n",
    "\n",
    "# truncate\n",
    "token_ids = token_ids[:1_000_000]"
   ]
  },
  {
   "cell_type": "code",
   "execution_count": 5,
   "metadata": {},
   "outputs": [
    {
     "name": "stderr",
     "output_type": "stream",
     "text": [
      "Token indices sequence length is longer than the specified maximum sequence length for this model (921314 > 8192). Running this sequence through the model will result in indexing errors\n"
     ]
    },
    {
     "name": "stdout",
     "output_type": "stream",
     "text": [
      "Number of tokens: 921,314\n"
     ]
    }
   ],
   "source": [
    "from transformers import AutoTokenizer\n",
    "import json\n",
    "\n",
    "strings = []\n",
    "with open('arc_c.jsonl') as f:\n",
    "    for line in f:\n",
    "        doc = json.loads(line)\n",
    "        strings.append(doc['request']['context'])\n",
    "        strings.append(doc['request']['continuation'])\n",
    "\n",
    "text = '\\n'.join(strings)\n",
    "\n",
    "tokenizer = AutoTokenizer.from_pretrained(\"allenai/dolma2-tokenizer\")\n",
    "tokens = tokenizer.encode(text)\n",
    "tokens = np.array(tokens, dtype=np.int32)\n",
    "\n",
    "print(f\"Number of tokens: {len(tokens):,}\")"
   ]
  },
  {
   "cell_type": "code",
   "execution_count": 8,
   "metadata": {},
   "outputs": [
    {
     "name": "stdout",
     "output_type": "stream",
     "text": [
      "Mutual information: 319 bytes\n"
     ]
    }
   ],
   "source": [
    "import gzip\n",
    "import io\n",
    "\n",
    "def compress_array_as_bytes(arr: np.ndarray) -> int:\n",
    "    buffer = io.BytesIO()\n",
    "    with gzip.GzipFile(fileobj=buffer, mode='wb') as f:\n",
    "        f.write(arr.tobytes())\n",
    "    return len(buffer.getvalue())\n",
    "\n",
    "tokens_size = compress_array_as_bytes(tokens)\n",
    "token_ids_size = compress_array_as_bytes(token_ids)\n",
    "concat_size = compress_array_as_bytes(np.concatenate([tokens, token_ids]))\n",
    "\n",
    "mutual_info = tokens_size + token_ids_size - concat_size\n",
    "print(f\"Mutual information: {mutual_info:,} bytes\")"
   ]
  }
 ],
 "metadata": {
  "kernelspec": {
   "display_name": ".venv",
   "language": "python",
   "name": "python3"
  },
  "language_info": {
   "codemirror_mode": {
    "name": "ipython",
    "version": 3
   },
   "file_extension": ".py",
   "mimetype": "text/x-python",
   "name": "python",
   "nbconvert_exporter": "python",
   "pygments_lexer": "ipython3",
   "version": "3.12.10"
  }
 },
 "nbformat": 4,
 "nbformat_minor": 2
}
